{
 "cells": [
  {
   "cell_type": "code",
   "execution_count": null,
   "id": "a9efb235-2da3-48de-90f7-a64e51749cef",
   "metadata": {},
   "outputs": [],
   "source": [
    "import cv2\n",
    "import numpy as np\n",
    "import matplotlib.pyplot as plt"
   ]
  },
  {
   "cell_type": "markdown",
   "id": "f56d92fa-54a4-4744-82da-2500d58424e0",
   "metadata": {},
   "source": [
    "### Load gambar"
   ]
  },
  {
   "cell_type": "code",
   "execution_count": null,
   "id": "92e7b244-254e-49da-a55d-3949c11da76e",
   "metadata": {},
   "outputs": [],
   "source": [
    "img = cv2.imread('Foto.jpg')\n",
    "if img is None:\n",
    "    print(\"Gambar tidak ditemukan.\")\n",
    "else:\n",
    "    print(\"Gambar berhasil dimuat.\")"
   ]
  },
  {
   "cell_type": "code",
   "execution_count": null,
   "id": "e7e6c081-2ac2-439c-ab98-6d03ea1d222e",
   "metadata": {},
   "outputs": [],
   "source": [
    "# Konversi ke grayscale\n",
    "gray = cv2.cvtColor(img, cv2.COLOR_BGR2GRAY)\n",
    "\n",
    "# Manual brightness adjustment: gray * alpha + beta\n",
    "alpha = 1.2\n",
    "beta = 50\n",
    "\n",
    "bright = np.zeros_like(gray)\n",
    "rows, cols = gray.shape\n",
    "for i in range(rows):\n",
    "    for j in range(cols):\n",
    "        new_val = int(alpha * gray[i, j] + beta)\n",
    "        bright[i, j] = np.clip(new_val, 0, 255)\n",
    "        \n",
    "# Kita gunakan histogram equalization sederhana secara manual\n",
    "hist = np.zeros(256, dtype=int)\n",
    "\n",
    "# Hitung histogram\n",
    "for i in range(rows):\n",
    "    for j in range(cols):\n",
    "        hist[bright[i, j]] += 1\n",
    "\n",
    "# Hitung CDF (Cumulative Distribution Function)\n",
    "cdf = hist.cumsum()\n",
    "cdf_normalized = cdf * 255 / cdf[-1]  # Normalisasi ke rentang 0-255\n",
    "\n",
    "# Terapkan transformasi ke citra\n",
    "enhanced = np.zeros_like(bright)\n",
    "for i in range(rows):\n",
    "    for j in range(cols):\n",
    "        enhanced[i, j] = int(cdf_normalized[bright[i, j]])"
   ]
  },
  {
   "cell_type": "markdown",
   "id": "43ec54a7-dd43-4d67-9294-0ae7dcd59862",
   "metadata": {},
   "source": [
    "### Visualisasi hasil"
   ]
  },
  {
   "cell_type": "code",
   "execution_count": null,
   "id": "10d5c1b2-7a13-4867-94e5-b4d4d1688044",
   "metadata": {},
   "outputs": [],
   "source": [
    "# Tampilkan hasil\n",
    "titles = ['Citra Asli', 'Grayscale', 'Keceraha"
   ]
  },
  {
   "cell_type": "code",
   "execution_count": null,
   "id": "2678d69b-9006-49f2-ae97-b94baf16b38b",
   "metadata": {},
   "outputs": [],
   "source": [
    "    n Ditingkatkan', 'Kontras + Kecerahan']\n",
    "images = [img, gray, bright, enhanced]\n",
    "\n",
    "for i in range(4):\n",
    "    plt.figure(figsize=(6, 5))\n",
    "    if i == 0:\n",
    "        plt.imshow(cv2.cvtColor(images[i], cv2.COLOR_BGR2RGB))\n",
    "    else:\n",
    "        plt.imshow(images[i], cmap='gray')\n",
    "    plt.title(titles[i])\n",
    "    plt.axis('off')\n",
    "    plt.tight_layout()\n",
    "    plt.show()"
   ]
  }
 ],
 "metadata": {
  "kernelspec": {
   "display_name": "Python 3 (ipykernel)",
   "language": "python",
   "name": "python3"
  },
  "language_info": {
   "codemirror_mode": {
    "name": "ipython",
    "version": 3
   },
   "file_extension": ".py",
   "mimetype": "text/x-python",
   "name": "python",
   "nbconvert_exporter": "python",
   "pygments_lexer": "ipython3",
   "version": "3.13.3"
  }
 },
 "nbformat": 4,
 "nbformat_minor": 5
}
